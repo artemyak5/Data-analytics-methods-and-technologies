{
 "cells": [
  {
   "cell_type": "markdown",
   "metadata": {},
   "source": [
    "<center style=\"font-size: 30px;\">Lab5</center>"
   ]
  },
  {
   "cell_type": "code",
   "execution_count": 10,
   "metadata": {},
   "outputs": [
    {
     "name": "stdout",
     "output_type": "stream",
     "text": [
      ":)\n"
     ]
    }
   ],
   "source": [
    "import numpy as np\n",
    "import pandas as pd\n",
    "from sklearn.model_selection import train_test_split, cross_val_score\n",
    "from sklearn.preprocessing import StandardScaler\n",
    "from sklearn.neighbors import KNeighborsClassifier\n",
    "from sklearn.metrics import accuracy_score\n",
    "import matplotlib.pyplot as plt\n",
    "print(\":)\")"
   ]
  },
  {
   "cell_type": "code",
   "execution_count": 11,
   "metadata": {},
   "outputs": [
    {
     "data": {
      "text/plain": [
       "{'Shape': (10127, 23),\n",
       " 'Columns': ['CLIENTNUM',\n",
       "  'Attrition_Flag',\n",
       "  'Customer_Age',\n",
       "  'Gender',\n",
       "  'Dependent_count',\n",
       "  'Education_Level',\n",
       "  'Marital_Status',\n",
       "  'Income_Category',\n",
       "  'Card_Category',\n",
       "  'Months_on_book',\n",
       "  'Total_Relationship_Count',\n",
       "  'Months_Inactive_12_mon',\n",
       "  'Contacts_Count_12_mon',\n",
       "  'Credit_Limit',\n",
       "  'Total_Revolving_Bal',\n",
       "  'Avg_Open_To_Buy',\n",
       "  'Total_Amt_Chng_Q4_Q1',\n",
       "  'Total_Trans_Amt',\n",
       "  'Total_Trans_Ct',\n",
       "  'Total_Ct_Chng_Q4_Q1',\n",
       "  'Avg_Utilization_Ratio',\n",
       "  'Naive_Bayes_Classifier_Attrition_Flag_Card_Category_Contacts_Count_12_mon_Dependent_count_Education_Level_Months_Inactive_12_mon_1',\n",
       "  'Naive_Bayes_Classifier_Attrition_Flag_Card_Category_Contacts_Count_12_mon_Dependent_count_Education_Level_Months_Inactive_12_mon_2'],\n",
       " 'Sample Data':    CLIENTNUM     Attrition_Flag  Customer_Age Gender  Dependent_count  \\\n",
       " 0  768805383  Existing Customer            45      M                3   \n",
       " 1  818770008  Existing Customer            49      F                5   \n",
       " 2  713982108  Existing Customer            51      M                3   \n",
       " 3  769911858  Existing Customer            40      F                4   \n",
       " 4  709106358  Existing Customer            40      M                3   \n",
       " \n",
       "   Education_Level Marital_Status Income_Category Card_Category  \\\n",
       " 0     High School        Married     $60K - $80K          Blue   \n",
       " 1        Graduate         Single  Less than $40K          Blue   \n",
       " 2        Graduate        Married    $80K - $120K          Blue   \n",
       " 3     High School        Unknown  Less than $40K          Blue   \n",
       " 4      Uneducated        Married     $60K - $80K          Blue   \n",
       " \n",
       "    Months_on_book  ...  Credit_Limit  Total_Revolving_Bal  Avg_Open_To_Buy  \\\n",
       " 0              39  ...       12691.0                  777          11914.0   \n",
       " 1              44  ...        8256.0                  864           7392.0   \n",
       " 2              36  ...        3418.0                    0           3418.0   \n",
       " 3              34  ...        3313.0                 2517            796.0   \n",
       " 4              21  ...        4716.0                    0           4716.0   \n",
       " \n",
       "    Total_Amt_Chng_Q4_Q1  Total_Trans_Amt  Total_Trans_Ct  Total_Ct_Chng_Q4_Q1  \\\n",
       " 0                 1.335             1144              42                1.625   \n",
       " 1                 1.541             1291              33                3.714   \n",
       " 2                 2.594             1887              20                2.333   \n",
       " 3                 1.405             1171              20                2.333   \n",
       " 4                 2.175              816              28                2.500   \n",
       " \n",
       "    Avg_Utilization_Ratio  \\\n",
       " 0                  0.061   \n",
       " 1                  0.105   \n",
       " 2                  0.000   \n",
       " 3                  0.760   \n",
       " 4                  0.000   \n",
       " \n",
       "    Naive_Bayes_Classifier_Attrition_Flag_Card_Category_Contacts_Count_12_mon_Dependent_count_Education_Level_Months_Inactive_12_mon_1  \\\n",
       " 0                                           0.000093                                                                                    \n",
       " 1                                           0.000057                                                                                    \n",
       " 2                                           0.000021                                                                                    \n",
       " 3                                           0.000134                                                                                    \n",
       " 4                                           0.000022                                                                                    \n",
       " \n",
       "    Naive_Bayes_Classifier_Attrition_Flag_Card_Category_Contacts_Count_12_mon_Dependent_count_Education_Level_Months_Inactive_12_mon_2  \n",
       " 0                                            0.99991                                                                                   \n",
       " 1                                            0.99994                                                                                   \n",
       " 2                                            0.99998                                                                                   \n",
       " 3                                            0.99987                                                                                   \n",
       " 4                                            0.99998                                                                                   \n",
       " \n",
       " [5 rows x 23 columns],\n",
       " 'Missing Values': CLIENTNUM                                                                                                                             0\n",
       " Attrition_Flag                                                                                                                        0\n",
       " Customer_Age                                                                                                                          0\n",
       " Gender                                                                                                                                0\n",
       " Dependent_count                                                                                                                       0\n",
       " Education_Level                                                                                                                       0\n",
       " Marital_Status                                                                                                                        0\n",
       " Income_Category                                                                                                                       0\n",
       " Card_Category                                                                                                                         0\n",
       " Months_on_book                                                                                                                        0\n",
       " Total_Relationship_Count                                                                                                              0\n",
       " Months_Inactive_12_mon                                                                                                                0\n",
       " Contacts_Count_12_mon                                                                                                                 0\n",
       " Credit_Limit                                                                                                                          0\n",
       " Total_Revolving_Bal                                                                                                                   0\n",
       " Avg_Open_To_Buy                                                                                                                       0\n",
       " Total_Amt_Chng_Q4_Q1                                                                                                                  0\n",
       " Total_Trans_Amt                                                                                                                       0\n",
       " Total_Trans_Ct                                                                                                                        0\n",
       " Total_Ct_Chng_Q4_Q1                                                                                                                   0\n",
       " Avg_Utilization_Ratio                                                                                                                 0\n",
       " Naive_Bayes_Classifier_Attrition_Flag_Card_Category_Contacts_Count_12_mon_Dependent_count_Education_Level_Months_Inactive_12_mon_1    0\n",
       " Naive_Bayes_Classifier_Attrition_Flag_Card_Category_Contacts_Count_12_mon_Dependent_count_Education_Level_Months_Inactive_12_mon_2    0\n",
       " dtype: int64}"
      ]
     },
     "execution_count": 11,
     "metadata": {},
     "output_type": "execute_result"
    }
   ],
   "source": [
    "data  = pd.read_csv(r\"D:\\programming\\2024-2025\\Data-analytics-methods-and-technologies\\lab1\\BankChurners.csv\")\n",
    "data_info = {\n",
    "    \"Shape\": data.shape,\n",
    "    \"Columns\": data.columns.tolist(),\n",
    "    \"Sample Data\": data.head(),\n",
    "    \"Missing Values\": data.isnull().sum()\n",
    "}\n",
    "\n",
    "data_info"
   ]
  },
  {
   "cell_type": "code",
   "execution_count": 12,
   "metadata": {},
   "outputs": [
    {
     "data": {
      "text/plain": [
       "((7088, 34), (3039, 34), (7088,), (3039,))"
      ]
     },
     "execution_count": 12,
     "metadata": {},
     "output_type": "execute_result"
    }
   ],
   "source": [
    "from sklearn.model_selection import train_test_split\n",
    "from sklearn.preprocessing import LabelEncoder, StandardScaler\n",
    "\n",
    "target_column = 'Attrition_Flag'\n",
    "categorical_columns = ['Gender', 'Education_Level', 'Marital_Status', 'Income_Category', 'Card_Category']\n",
    "\n",
    "label_encoder = LabelEncoder()\n",
    "data[target_column] = label_encoder.fit_transform(data[target_column])\n",
    "\n",
    "data_encoded = pd.get_dummies(data, columns=categorical_columns, drop_first=True)\n",
    "\n",
    "X = data_encoded.drop(columns=['CLIENTNUM', target_column])\n",
    "y = data_encoded[target_column]\n",
    "\n",
    "scaler = StandardScaler()\n",
    "X_scaled = scaler.fit_transform(X)\n",
    "\n",
    "X_train, X_test, y_train, y_test = train_test_split(X_scaled, y, test_size=0.3, random_state=42, stratify=y)\n",
    "\n",
    "(X_train.shape, X_test.shape, y_train.shape, y_test.shape)\n"
   ]
  },
  {
   "cell_type": "code",
   "execution_count": 13,
   "metadata": {},
   "outputs": [
    {
     "data": {
      "text/plain": [
       "(1,\n",
       " {1: 0.9970372459317002,\n",
       "  2: 0.9983069976752571,\n",
       "  3: 0.9963319278332378,\n",
       "  4: 0.9984481210170579,\n",
       "  5: 0.9956265500126671,\n",
       "  6: 0.9976016795767948,\n",
       "  7: 0.9960498005938527,\n",
       "  8: 0.9978838068161796,\n",
       "  9: 0.9952032994314814,\n",
       "  10: 0.9971783692735009,\n",
       "  11: 0.9950622955338971,\n",
       "  12: 0.9964729914529302,\n",
       "  13: 0.9952031799872648,\n",
       "  14: 0.9966139953505144,\n",
       "  15: 0.995485366948758,\n",
       "  16: 0.996472931730822,\n",
       "  17: 0.995061996923356,\n",
       "  18: 0.996049621427528,\n",
       "  19: 0.9952031202651566,\n",
       "  20: 0.995485366948758})"
      ]
     },
     "execution_count": 13,
     "metadata": {},
     "output_type": "execute_result"
    }
   ],
   "source": [
    "from sklearn.neighbors import KNeighborsClassifier\n",
    "from sklearn.model_selection import cross_val_score\n",
    "import numpy as np\n",
    "\n",
    "accuracy_results = {}\n",
    "k_range = range(1, 21)\n",
    "\n",
    "for k in k_range:\n",
    "    knn = KNeighborsClassifier(n_neighbors=k)\n",
    "    scores = cross_val_score(knn, X_train, y_train, cv=3, scoring='accuracy')\n",
    "    accuracy_results[k] = scores.mean()\n",
    "\n",
    "optimal_k = next((k for k, acc in accuracy_results.items() if acc >= 0.85), None)\n",
    "optimal_k, accuracy_results\n"
   ]
  },
  {
   "cell_type": "code",
   "execution_count": 14,
   "metadata": {},
   "outputs": [
    {
     "data": {
      "text/plain": [
       "(1,\n",
       " {1: 0.9970372459317002,\n",
       "  3: 0.9963319278332378,\n",
       "  5: 0.9956265500126671,\n",
       "  7: 0.9960498005938527,\n",
       "  9: 0.9952032994314814,\n",
       "  11: 0.9950622955338971,\n",
       "  13: 0.9952031799872648,\n",
       "  15: 0.995485366948758,\n",
       "  17: 0.995061996923356,\n",
       "  19: 0.9952031202651566})"
      ]
     },
     "execution_count": 14,
     "metadata": {},
     "output_type": "execute_result"
    }
   ],
   "source": [
    "optimized_k_range = range(1, 21, 2)\n",
    "\n",
    "optimized_accuracy_results = {}\n",
    "\n",
    "for k in optimized_k_range:\n",
    "    knn = KNeighborsClassifier(n_neighbors=k)\n",
    "    scores = cross_val_score(knn, X_train, y_train, cv=3, scoring='accuracy')\n",
    "    optimized_accuracy_results[k] = scores.mean()\n",
    "\n",
    "optimized_optimal_k = next((k for k, acc in optimized_accuracy_results.items() if acc >= 0.85), None)\n",
    "optimized_optimal_k, optimized_accuracy_results\n"
   ]
  },
  {
   "cell_type": "code",
   "execution_count": 15,
   "metadata": {},
   "outputs": [
    {
     "data": {
      "text/plain": [
       "{5: 0.9956265500126671, 10: 0.9971783692735009, 15: 0.995485366948758}"
      ]
     },
     "execution_count": 15,
     "metadata": {},
     "output_type": "execute_result"
    }
   ],
   "source": [
    "specific_k_values = [5, 10, 15]\n",
    "specific_accuracy_results = {}\n",
    "\n",
    "for k in specific_k_values:\n",
    "    knn = KNeighborsClassifier(n_neighbors=k)\n",
    "    scores = cross_val_score(knn, X_train, y_train, cv=3, scoring='accuracy')\n",
    "    specific_accuracy_results[k] = scores.mean()\n",
    "\n",
    "specific_accuracy_results\n"
   ]
  },
  {
   "cell_type": "code",
   "execution_count": 16,
   "metadata": {},
   "outputs": [
    {
     "data": {
      "text/plain": [
       "0.998025666337611"
      ]
     },
     "execution_count": 16,
     "metadata": {},
     "output_type": "execute_result"
    }
   ],
   "source": [
    "optimal_knn = KNeighborsClassifier(n_neighbors=10)\n",
    "optimal_knn.fit(X_train, y_train)\n",
    "\n",
    "test_accuracy = optimal_knn.score(X_test, y_test)\n",
    "test_accuracy\n"
   ]
  }
 ],
 "metadata": {
  "kernelspec": {
   "display_name": "base",
   "language": "python",
   "name": "python3"
  },
  "language_info": {
   "codemirror_mode": {
    "name": "ipython",
    "version": 3
   },
   "file_extension": ".py",
   "mimetype": "text/x-python",
   "name": "python",
   "nbconvert_exporter": "python",
   "pygments_lexer": "ipython3",
   "version": "3.12.4"
  }
 },
 "nbformat": 4,
 "nbformat_minor": 2
}
